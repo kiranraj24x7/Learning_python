{
 "cells": [
  {
   "cell_type": "markdown",
   "id": "9de28685-8e66-40c7-bf63-ef21cd842a17",
   "metadata": {},
   "source": [
    "# Numpy Notes"
   ]
  },
  {
   "cell_type": "code",
   "execution_count": 2,
   "id": "9afb1e14-3868-495b-ae1a-06f6795edab6",
   "metadata": {},
   "outputs": [],
   "source": [
    "import numpy as np"
   ]
  },
  {
   "cell_type": "code",
   "execution_count": 3,
   "id": "2e6dcdd7-2eff-4f6c-b657-4324ea917cf4",
   "metadata": {},
   "outputs": [],
   "source": [
    "a = np.array([1,2,3],dtype='int8')\n",
    "b = np.array([[1.0,2.0,3.0],[4.0,5.0,6.0]])"
   ]
  },
  {
   "cell_type": "code",
   "execution_count": 4,
   "id": "9dbc779a-7625-49fe-a5b9-a8f32258c4f9",
   "metadata": {},
   "outputs": [
    {
     "name": "stdout",
     "output_type": "stream",
     "text": [
      "[1 2 3]\n",
      "[[1. 2. 3.]\n",
      " [4. 5. 6.]]\n"
     ]
    }
   ],
   "source": [
    "# Print Matrix\n",
    "print(a)\n",
    "print(b)"
   ]
  },
  {
   "cell_type": "code",
   "execution_count": 5,
   "id": "634e5b0a-9703-4056-93ba-9883d71c4b75",
   "metadata": {},
   "outputs": [
    {
     "name": "stdout",
     "output_type": "stream",
     "text": [
      "Dimension 2\n"
     ]
    }
   ],
   "source": [
    "# Get Dimension\n",
    "print(\"Dimension\",b.ndim)"
   ]
  },
  {
   "cell_type": "code",
   "execution_count": 6,
   "id": "e4164296-99cb-4bb4-a150-ec15d18a9360",
   "metadata": {},
   "outputs": [
    {
     "data": {
      "text/plain": [
       "dtype('int8')"
      ]
     },
     "execution_count": 6,
     "metadata": {},
     "output_type": "execute_result"
    }
   ],
   "source": [
    "# Get Type/Size\n",
    "a.dtype"
   ]
  },
  {
   "cell_type": "code",
   "execution_count": 7,
   "id": "5733a78e-d883-4268-841c-ec4218e2d81d",
   "metadata": {},
   "outputs": [
    {
     "data": {
      "text/plain": [
       "(2, 3)"
      ]
     },
     "execution_count": 7,
     "metadata": {},
     "output_type": "execute_result"
    }
   ],
   "source": [
    "# GetShape\n",
    "b.shape"
   ]
  },
  {
   "cell_type": "code",
   "execution_count": 8,
   "id": "86fa792d-8e27-4c4e-8d4f-1106d6b4d5d9",
   "metadata": {},
   "outputs": [
    {
     "data": {
      "text/plain": [
       "1"
      ]
     },
     "execution_count": 8,
     "metadata": {},
     "output_type": "execute_result"
    }
   ],
   "source": [
    "#get Size(how many bits)\n",
    "a.itemsize"
   ]
  },
  {
   "cell_type": "code",
   "execution_count": 9,
   "id": "6850ce46-4fbb-42f0-8d17-fa24c6469f8b",
   "metadata": {},
   "outputs": [
    {
     "data": {
      "text/plain": [
       "3"
      ]
     },
     "execution_count": 9,
     "metadata": {},
     "output_type": "execute_result"
    }
   ],
   "source": [
    "# Get total size ( a.size * a.item size)\n",
    "a.nbytes"
   ]
  },
  {
   "cell_type": "markdown",
   "id": "c159e48e-e6e2-4d39-acec-a656f9385056",
   "metadata": {},
   "source": [
    "Accessing/Changing Specific elements, rows,columns,etc"
   ]
  },
  {
   "cell_type": "code",
   "execution_count": 10,
   "id": "85dd7743-8d44-4c64-9512-c942e9464ef0",
   "metadata": {},
   "outputs": [],
   "source": [
    "a = np.array([[1,2,3,4,5,6,7],[8,9,10,11,12,13,14]])"
   ]
  },
  {
   "cell_type": "code",
   "execution_count": 11,
   "id": "e15e34e2-2fc6-42e3-867a-d0d80121cb47",
   "metadata": {},
   "outputs": [
    {
     "data": {
      "text/plain": [
       "3"
      ]
     },
     "execution_count": 11,
     "metadata": {},
     "output_type": "execute_result"
    }
   ],
   "source": [
    "# get a specific element from the array\n",
    "\n",
    "a[0,2]"
   ]
  },
  {
   "cell_type": "code",
   "execution_count": 12,
   "id": "42d65585-ecf8-4422-ad3d-69f5da90f234",
   "metadata": {},
   "outputs": [
    {
     "data": {
      "text/plain": [
       "array([1, 2, 3, 4, 5, 6, 7])"
      ]
     },
     "execution_count": 12,
     "metadata": {},
     "output_type": "execute_result"
    }
   ],
   "source": [
    "# get a specific row\n",
    "a[0,:]"
   ]
  },
  {
   "cell_type": "code",
   "execution_count": 13,
   "id": "eaefaaa8-b143-45c7-b92f-b0261bbd66af",
   "metadata": {},
   "outputs": [
    {
     "data": {
      "text/plain": [
       "array([ 3, 10])"
      ]
     },
     "execution_count": 13,
     "metadata": {},
     "output_type": "execute_result"
    }
   ],
   "source": [
    "# get a specific column\n",
    "a[:,2]"
   ]
  },
  {
   "cell_type": "code",
   "execution_count": 14,
   "id": "f22a44c6-d117-4aa0-95c8-790ff14dac99",
   "metadata": {},
   "outputs": [
    {
     "data": {
      "text/plain": [
       "array([2, 4, 6])"
      ]
     },
     "execution_count": 14,
     "metadata": {},
     "output_type": "execute_result"
    }
   ],
   "source": [
    "# [start:end and step size]\n",
    "a[0, 1:6:2]"
   ]
  },
  {
   "cell_type": "code",
   "execution_count": 15,
   "id": "5615d451-ad0e-4daf-8a8e-cab0716e3d32",
   "metadata": {},
   "outputs": [
    {
     "name": "stdout",
     "output_type": "stream",
     "text": [
      "[[ 1  2  3  4  5  6  7]\n",
      " [ 8  9 10 11 12 20 14]]\n",
      "[[ 1  2  3  4  5  6  7]\n",
      " [ 8  9  4 11 12 20 14]]\n"
     ]
    }
   ],
   "source": [
    "a[1,5] = 20\n",
    "print(a)\n",
    "\n",
    "a[:,2] = [3,4]\n",
    "print(a)"
   ]
  },
  {
   "cell_type": "code",
   "execution_count": 16,
   "id": "92ac62f1-b28d-4300-88c7-39c2a8fa875d",
   "metadata": {},
   "outputs": [
    {
     "name": "stdout",
     "output_type": "stream",
     "text": [
      "[[[ 1  2  3  4]\n",
      "  [ 5  6  7  8]]\n",
      "\n",
      " [[ 9 10 11 12]\n",
      "  [13 14 15 16]]]\n"
     ]
    }
   ],
   "source": [
    "#3d array\n",
    "b = np.array([[[1,2,3,4],[5,6,7,8]],[[9,10,11,12],[13,14,15,16]]])\n",
    "print(b)"
   ]
  },
  {
   "cell_type": "code",
   "execution_count": 17,
   "id": "e1fa9784-5d4e-4446-90dd-e60714fc7db9",
   "metadata": {},
   "outputs": [
    {
     "data": {
      "text/plain": [
       "7"
      ]
     },
     "execution_count": 17,
     "metadata": {},
     "output_type": "execute_result"
    }
   ],
   "source": [
    "# get specific with array\n",
    "b[0,1,2]"
   ]
  },
  {
   "cell_type": "code",
   "execution_count": 18,
   "id": "df799f25-0479-451c-9ed9-1b46530dd1ea",
   "metadata": {},
   "outputs": [
    {
     "name": "stdout",
     "output_type": "stream",
     "text": [
      "[5 6] [ 9 10]\n"
     ]
    }
   ],
   "source": [
    "# replace \n",
    "\n",
    "print(b[0,1,0:2],b[1,0,0:2])"
   ]
  },
  {
   "cell_type": "code",
   "execution_count": 19,
   "id": "36587870-ac87-440c-9540-034cd8f38f09",
   "metadata": {},
   "outputs": [
    {
     "data": {
      "text/plain": [
       "array([[0., 0., 0.],\n",
       "       [0., 0., 0.]])"
      ]
     },
     "execution_count": 19,
     "metadata": {},
     "output_type": "execute_result"
    }
   ],
   "source": [
    "#Initializing Different Types of Arrays\n",
    "np.zeros(5)\n",
    "np.zeros((2,3))"
   ]
  },
  {
   "cell_type": "code",
   "execution_count": 20,
   "id": "2193fb31-0572-4d7d-b30f-687de4c7db80",
   "metadata": {},
   "outputs": [
    {
     "data": {
      "text/plain": [
       "array([[[1., 1.],\n",
       "        [1., 1.]],\n",
       "\n",
       "       [[1., 1.],\n",
       "        [1., 1.]],\n",
       "\n",
       "       [[1., 1.],\n",
       "        [1., 1.]],\n",
       "\n",
       "       [[1., 1.],\n",
       "        [1., 1.]]])"
      ]
     },
     "execution_count": 20,
     "metadata": {},
     "output_type": "execute_result"
    }
   ],
   "source": [
    "d = np.ones((4,2,2))\n",
    "d"
   ]
  },
  {
   "cell_type": "code",
   "execution_count": 21,
   "id": "59278a51-e9dd-40e5-8720-b4c72d67cc58",
   "metadata": {},
   "outputs": [
    {
     "data": {
      "text/plain": [
       "array([[99, 99],\n",
       "       [99, 99]])"
      ]
     },
     "execution_count": 21,
     "metadata": {},
     "output_type": "execute_result"
    }
   ],
   "source": [
    "np.full((2,2),99)"
   ]
  },
  {
   "cell_type": "code",
   "execution_count": 22,
   "id": "bd16ef1e-60c1-4a6d-876b-5a5b5bba2065",
   "metadata": {},
   "outputs": [
    {
     "data": {
      "text/plain": [
       "array([[[4., 4.],\n",
       "        [4., 4.]],\n",
       "\n",
       "       [[4., 4.],\n",
       "        [4., 4.]],\n",
       "\n",
       "       [[4., 4.],\n",
       "        [4., 4.]],\n",
       "\n",
       "       [[4., 4.],\n",
       "        [4., 4.]]])"
      ]
     },
     "execution_count": 22,
     "metadata": {},
     "output_type": "execute_result"
    }
   ],
   "source": [
    "np.full_like(d,4)"
   ]
  },
  {
   "cell_type": "code",
   "execution_count": 23,
   "id": "177bfe31-6f60-4a9d-a4c1-7b743a3d74a3",
   "metadata": {},
   "outputs": [
    {
     "data": {
      "text/plain": [
       "array([[0.17164692, 0.58775398],\n",
       "       [0.67511081, 0.8253342 ],\n",
       "       [0.23127767, 0.21562014],\n",
       "       [0.1662318 , 0.88901445]])"
      ]
     },
     "execution_count": 23,
     "metadata": {},
     "output_type": "execute_result"
    }
   ],
   "source": [
    "# random decimal number\n",
    "np.random.rand(4,2)"
   ]
  },
  {
   "cell_type": "code",
   "execution_count": 24,
   "id": "f47aa18a-932a-4e0d-ab95-1b4e5ea23794",
   "metadata": {},
   "outputs": [
    {
     "data": {
      "text/plain": [
       "array([[[0.77362021, 0.52406917],\n",
       "        [0.82920408, 0.25579862]],\n",
       "\n",
       "       [[0.94525561, 0.72808095],\n",
       "        [0.75961852, 0.85647701]],\n",
       "\n",
       "       [[0.64997233, 0.28368725],\n",
       "        [0.35181986, 0.79724105]],\n",
       "\n",
       "       [[0.8350899 , 0.29489347],\n",
       "        [0.63642072, 0.74693576]]])"
      ]
     },
     "execution_count": 24,
     "metadata": {},
     "output_type": "execute_result"
    }
   ],
   "source": [
    "np.random.random_sample(d.shape)"
   ]
  },
  {
   "cell_type": "code",
   "execution_count": 25,
   "id": "eb56e308-4368-401d-acaa-f980c3cd67ce",
   "metadata": {},
   "outputs": [
    {
     "data": {
      "text/plain": [
       "array([[6, 5, 5],\n",
       "       [4, 6, 6],\n",
       "       [5, 5, 5]])"
      ]
     },
     "execution_count": 25,
     "metadata": {},
     "output_type": "execute_result"
    }
   ],
   "source": [
    "# random integer value\n",
    "np.random.randint(4,7,size=(3,3))"
   ]
  },
  {
   "cell_type": "code",
   "execution_count": 26,
   "id": "ab4ad6eb-ee5c-4865-a292-4ab258432d03",
   "metadata": {},
   "outputs": [
    {
     "data": {
      "text/plain": [
       "array([[1., 0., 0.],\n",
       "       [0., 1., 0.],\n",
       "       [0., 0., 1.]])"
      ]
     },
     "execution_count": 26,
     "metadata": {},
     "output_type": "execute_result"
    }
   ],
   "source": [
    "#identity matrix \n",
    "np.identity(3)"
   ]
  },
  {
   "cell_type": "code",
   "execution_count": 27,
   "id": "e6caeb48-4dba-4aac-ab1f-5a96c364ea71",
   "metadata": {},
   "outputs": [
    {
     "data": {
      "text/plain": [
       "array([[1, 2, 3],\n",
       "       [1, 2, 3],\n",
       "       [1, 2, 3]])"
      ]
     },
     "execution_count": 27,
     "metadata": {},
     "output_type": "execute_result"
    }
   ],
   "source": [
    "arr= np.array([[1,2,3]])\n",
    "r1 = np.repeat(arr,3,axis=0)\n",
    "r1"
   ]
  },
  {
   "cell_type": "code",
   "execution_count": 28,
   "id": "649a3e56-d595-46a9-aa40-1942e0647aaa",
   "metadata": {},
   "outputs": [
    {
     "data": {
      "text/plain": [
       "array([[1, 1, 1, 1, 1],\n",
       "       [1, 0, 0, 0, 1],\n",
       "       [1, 0, 9, 0, 1],\n",
       "       [1, 0, 0, 0, 1],\n",
       "       [1, 1, 1, 1, 1]])"
      ]
     },
     "execution_count": 28,
     "metadata": {},
     "output_type": "execute_result"
    }
   ],
   "source": [
    "a = np.ones((5,5))\n",
    "a[1:4,1:4]=0\n",
    "a[2,2] = 9\n",
    "b = a.astype(int)\n",
    "b"
   ]
  },
  {
   "cell_type": "code",
   "execution_count": 29,
   "id": "82304e03-0c8d-405b-b8c5-8c27d0604aba",
   "metadata": {},
   "outputs": [
    {
     "data": {
      "text/plain": [
       "array([0.33333333, 0.66666667, 1.        , 1.33333333])"
      ]
     },
     "execution_count": 29,
     "metadata": {},
     "output_type": "execute_result"
    }
   ],
   "source": [
    "#Mathematics\n",
    "\n",
    "a = np.array([1,2,3,4])\n",
    "a +2\n",
    "a - 3\n",
    "a /3\n"
   ]
  },
  {
   "cell_type": "code",
   "execution_count": 30,
   "id": "aec4feb9-f740-4518-92b7-8d9ad06d4ab1",
   "metadata": {},
   "outputs": [
    {
     "data": {
      "text/plain": [
       "array([2, 4, 6, 8])"
      ]
     },
     "execution_count": 30,
     "metadata": {},
     "output_type": "execute_result"
    }
   ],
   "source": [
    "b = np.array([1,2,3,4])\n",
    "a+b"
   ]
  },
  {
   "cell_type": "code",
   "execution_count": 31,
   "id": "7d527dc4-9796-41f1-8c23-6326d72e122e",
   "metadata": {},
   "outputs": [
    {
     "data": {
      "text/plain": [
       "array([ 1,  4,  9, 16])"
      ]
     },
     "execution_count": 31,
     "metadata": {},
     "output_type": "execute_result"
    }
   ],
   "source": [
    "a ** 2"
   ]
  },
  {
   "cell_type": "code",
   "execution_count": 32,
   "id": "0b01f237-8076-48a3-83fd-992019daa58c",
   "metadata": {},
   "outputs": [
    {
     "data": {
      "text/plain": [
       "array([ 0.84147098,  0.90929743,  0.14112001, -0.7568025 ])"
      ]
     },
     "execution_count": 32,
     "metadata": {},
     "output_type": "execute_result"
    }
   ],
   "source": [
    "np.sin(a)"
   ]
  },
  {
   "cell_type": "code",
   "execution_count": 33,
   "id": "9dd7bbdd-31b5-4f9b-98d5-06a01943fc28",
   "metadata": {},
   "outputs": [
    {
     "name": "stdout",
     "output_type": "stream",
     "text": [
      "[[1 1 1]\n",
      " [1 1 1]]\n",
      "[[2 2]\n",
      " [2 2]\n",
      " [2 2]]\n"
     ]
    },
    {
     "data": {
      "text/plain": [
       "array([[6, 6],\n",
       "       [6, 6]])"
      ]
     },
     "execution_count": 33,
     "metadata": {},
     "output_type": "execute_result"
    }
   ],
   "source": [
    "# Linear Algebra\n",
    "a = np.full((2,3),1)\n",
    "print(a)\n",
    "\n",
    "b = np.full((3,2),2)\n",
    "print(b)\n",
    "np.matmul(a,b)"
   ]
  },
  {
   "cell_type": "code",
   "execution_count": 34,
   "id": "af21dcee-60a1-47cf-a3a1-229a8d410b2f",
   "metadata": {},
   "outputs": [
    {
     "data": {
      "text/plain": [
       "1.0"
      ]
     },
     "execution_count": 34,
     "metadata": {},
     "output_type": "execute_result"
    }
   ],
   "source": [
    "# find the determinant\n",
    "c = np.identity(3)\n",
    "np.linalg.det(c)"
   ]
  },
  {
   "cell_type": "code",
   "execution_count": 35,
   "id": "ae9cf8ca-ef41-4779-8a72-283e3283648f",
   "metadata": {},
   "outputs": [
    {
     "data": {
      "text/plain": [
       "array([1, 1, 1])"
      ]
     },
     "execution_count": 35,
     "metadata": {},
     "output_type": "execute_result"
    }
   ],
   "source": [
    "### Statistics\n",
    "\n",
    "np.min(a,axis=0)"
   ]
  },
  {
   "cell_type": "code",
   "execution_count": 36,
   "id": "87657798-8c4c-4e48-b118-3fa4b97a7c2b",
   "metadata": {},
   "outputs": [
    {
     "data": {
      "text/plain": [
       "array([1, 1, 1])"
      ]
     },
     "execution_count": 36,
     "metadata": {},
     "output_type": "execute_result"
    }
   ],
   "source": [
    "np.max(a,axis=0)"
   ]
  },
  {
   "cell_type": "code",
   "execution_count": 37,
   "id": "0da7a5db-65c2-4cdf-a7f9-e1141d60a830",
   "metadata": {},
   "outputs": [
    {
     "data": {
      "text/plain": [
       "6"
      ]
     },
     "execution_count": 37,
     "metadata": {},
     "output_type": "execute_result"
    }
   ],
   "source": [
    "np.sum(a)"
   ]
  },
  {
   "cell_type": "code",
   "execution_count": 40,
   "id": "2fb38805-63ec-48ee-be6d-82430bdb58b4",
   "metadata": {},
   "outputs": [
    {
     "name": "stdout",
     "output_type": "stream",
     "text": [
      "[[1 2]\n",
      " [3 4]\n",
      " [5 6]\n",
      " [7 8]]\n"
     ]
    },
    {
     "data": {
      "text/plain": [
       "array([[3, 4],\n",
       "       [7, 8]])"
      ]
     },
     "execution_count": 40,
     "metadata": {},
     "output_type": "execute_result"
    }
   ],
   "source": [
    "#Reorganizing Arrays\n",
    "befor= np.array([[1,2,3,4],[5,6,7,8]])\n",
    "\n",
    "after = befor.reshape((4,2))\n",
    "print(after)\n",
    "after[[1,3],:]"
   ]
  },
  {
   "cell_type": "code",
   "execution_count": null,
   "id": "6ddfd8d0-ff4f-43bb-b63a-2555ff7b0c90",
   "metadata": {},
   "outputs": [],
   "source": [
    "# vertically stacking\n",
    "v1 = np.array([1,2,3,4])\n",
    "v2 = np.array([3,4,5,6])\n",
    "np.vstack([v1,v2])\n"
   ]
  },
  {
   "cell_type": "code",
   "execution_count": 43,
   "id": "f8cb1ab2-8bd4-4d7d-9d82-8e00bd7e1e74",
   "metadata": {},
   "outputs": [
    {
     "data": {
      "text/plain": [
       "array([1, 2, 3, 4, 3, 4, 5, 6])"
      ]
     },
     "execution_count": 43,
     "metadata": {},
     "output_type": "execute_result"
    }
   ],
   "source": [
    "# horizontal Stacking\n",
    "h1 = np.array([1,2,3,4])\n",
    "h2 = np.array([3,4,5,6])\n",
    "\n",
    "np.hstack((h1,h2))"
   ]
  },
  {
   "cell_type": "code",
   "execution_count": null,
   "id": "8a2a4c2d-d993-463b-a065-8fd6a94e8109",
   "metadata": {},
   "outputs": [],
   "source": [
    "#Miscellaneous\n",
    "#Load Data from the file\n",
    "# np.genfromtxt('data.txt',delimiter= \",\")\n",
    "# filedata.astype('int32')\n"
   ]
  },
  {
   "cell_type": "code",
   "execution_count": null,
   "id": "dc9c26a9-a20f-4e51-a204-0162a0c746db",
   "metadata": {},
   "outputs": [],
   "source": [
    "#Boolean Masking and Advanced Indexing\n",
    "h1 > 50"
   ]
  },
  {
   "cell_type": "code",
   "execution_count": null,
   "id": "981b926e-fd89-4770-87e6-2d1206ecfa2c",
   "metadata": {},
   "outputs": [],
   "source": [
    "h1[h1<2]# it will give the array because [h1<2] provides an index"
   ]
  },
  {
   "cell_type": "code",
   "execution_count": 44,
   "id": "d72a19d0-d17e-4690-9cb7-767bf76ad5d4",
   "metadata": {},
   "outputs": [
    {
     "data": {
      "text/plain": [
       "True"
      ]
     },
     "execution_count": 44,
     "metadata": {},
     "output_type": "execute_result"
    }
   ],
   "source": [
    "np.any(h1> 3,axis=0)\n",
    "np.all(h1> 3,axis =0)"
   ]
  },
  {
   "cell_type": "code",
   "execution_count": 46,
   "id": "24ce6c14-1161-4fe4-a3ff-2af076e05a09",
   "metadata": {},
   "outputs": [
    {
     "data": {
      "text/plain": [
       "array([2, 3, 4])"
      ]
     },
     "execution_count": 46,
     "metadata": {},
     "output_type": "execute_result"
    }
   ],
   "source": [
    "h1[[1,2,3]]"
   ]
  },
  {
   "cell_type": "code",
   "execution_count": 47,
   "id": "de89ca66-552d-4a93-b935-05b8cb88ea9d",
   "metadata": {},
   "outputs": [
    {
     "data": {
      "text/plain": [
       "array([False, False,  True,  True])"
      ]
     },
     "execution_count": 47,
     "metadata": {},
     "output_type": "execute_result"
    }
   ],
   "source": [
    "(~((h2 >1) & (h1 <3)))"
   ]
  },
  {
   "cell_type": "code",
   "execution_count": 55,
   "id": "6d85c3eb-2ccc-428c-9f46-095ae10d2b1d",
   "metadata": {},
   "outputs": [
    {
     "data": {
      "text/plain": [
       "array([[ 1,  2,  3,  4,  5],\n",
       "       [ 6,  7,  8,  9, 10],\n",
       "       [11, 12, 13, 14, 15],\n",
       "       [16, 17, 18, 19, 20],\n",
       "       [21, 22, 23, 24, 25],\n",
       "       [26, 27, 28, 29, 30]])"
      ]
     },
     "execution_count": 55,
     "metadata": {},
     "output_type": "execute_result"
    }
   ],
   "source": [
    "a = np.arange(1,31).reshape((6,5))\n",
    "a"
   ]
  },
  {
   "cell_type": "code",
   "execution_count": 60,
   "id": "7eb81464-af97-4fa5-9638-aa544e6c5366",
   "metadata": {},
   "outputs": [
    {
     "data": {
      "text/plain": [
       "array([ 2,  8, 14, 20])"
      ]
     },
     "execution_count": 60,
     "metadata": {},
     "output_type": "execute_result"
    }
   ],
   "source": [
    "a[[0,1,2,3],[1,2,3,4]]"
   ]
  },
  {
   "cell_type": "code",
   "execution_count": 61,
   "id": "8ef3cfe8-6dda-424f-b1f8-c84cd7a8828f",
   "metadata": {},
   "outputs": [
    {
     "data": {
      "text/plain": [
       "array([[ 4,  5],\n",
       "       [24, 25],\n",
       "       [29, 30]])"
      ]
     },
     "execution_count": 61,
     "metadata": {},
     "output_type": "execute_result"
    }
   ],
   "source": [
    "a[[0,4,5],3:5]"
   ]
  },
  {
   "cell_type": "code",
   "execution_count": null,
   "id": "dacc587c-f11a-463f-ba3c-ade70c62a3dc",
   "metadata": {},
   "outputs": [],
   "source": []
  }
 ],
 "metadata": {
  "kernelspec": {
   "display_name": "Python 3 (ipykernel)",
   "language": "python",
   "name": "python3"
  },
  "language_info": {
   "codemirror_mode": {
    "name": "ipython",
    "version": 3
   },
   "file_extension": ".py",
   "mimetype": "text/x-python",
   "name": "python",
   "nbconvert_exporter": "python",
   "pygments_lexer": "ipython3",
   "version": "3.9.12"
  }
 },
 "nbformat": 4,
 "nbformat_minor": 5
}
