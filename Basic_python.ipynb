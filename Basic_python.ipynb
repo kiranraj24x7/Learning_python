{
 "cells": [
  {
   "cell_type": "markdown",
   "id": "95996bc0-c206-4359-944d-4367c518fee8",
   "metadata": {},
   "source": [
    "### Basic Programs"
   ]
  },
  {
   "cell_type": "markdown",
   "id": "35cf0015-54e1-43c8-9129-44571aacb691",
   "metadata": {},
   "source": [
    "#### 1) Write a Python program to get two numbers as input and perform all the arithmetical operations and print the result."
   ]
  },
  {
   "cell_type": "code",
   "execution_count": 33,
   "id": "059b3324-9ed1-43b1-aa2c-b40d213ae33a",
   "metadata": {},
   "outputs": [
    {
     "name": "stdin",
     "output_type": "stream",
     "text": [
      "Enter the first Number:   2\n",
      "Enter the second Number:   3\n",
      "Enter the operation to be performed \n",
      " [ + - / % * **] +\n"
     ]
    },
    {
     "name": "stdout",
     "output_type": "stream",
     "text": [
      "sum =  5\n"
     ]
    }
   ],
   "source": [
    "number1 = int(input(\"Enter the first Number:  \"))\n",
    "number2 = int(input(\"Enter the second Number:  \"))\n",
    "\n",
    "operation = input(\"Enter the operation to be performed \\n [ + - / % * **]\")\n",
    "\n",
    "def arithmetic(number1,number2,operation):\n",
    "    if operation == \"+\":\n",
    "        print(\"sum = \" , number1+number2)\n",
    "    elif operation == \"-\":\n",
    "        print(\"substraction = \" , number1-number2)\n",
    "    elif operation == \"*\":\n",
    "        print(\"Multiplication = \" , number1*number2)\n",
    "    elif operation == \"/\":\n",
    "        print(\"Division = \" , number1/number2)\n",
    "    elif operation == \"%\":\n",
    "        print(\"Reminder = \" , number1%number2)\n",
    "    elif operation == \"**\":\n",
    "        print(\"exp = \" , number1**number2)\n",
    "    else:\n",
    "        print(\"enter a valid input\")\n",
    "\n",
    "arithmetic(number1,number2,operation)"
   ]
  },
  {
   "cell_type": "markdown",
   "id": "156dcb7e-4c6a-4132-80a6-4d67040e37fa",
   "metadata": {},
   "source": [
    "#### 2) Write a Python program to find the area of a triangle."
   ]
  },
  {
   "cell_type": "code",
   "execution_count": 101,
   "id": "e6abdfe8-e51c-4f92-bbea-92726232fd17",
   "metadata": {},
   "outputs": [
    {
     "name": "stdin",
     "output_type": "stream",
     "text": [
      "Enter the height:   5\n",
      "Enter the breadth:   3\n"
     ]
    },
    {
     "name": "stdout",
     "output_type": "stream",
     "text": [
      "area of the triangle :  7.5\n",
      "['5', '6', '7', '6', '8', '9']\n"
     ]
    }
   ],
   "source": [
    "height = float(input(\"Enter the height:  \"))\n",
    "breadth = float(input(\"Enter the breadth:  \"))\n",
    "area = (1/2) * (height * breadth)\n",
    "print(\"area of the triangle : \",area)\n"
   ]
  },
  {
   "cell_type": "markdown",
   "id": "a15f3306-673f-4e59-8a21-7f4e9c28e056",
   "metadata": {},
   "source": [
    "#### 3) Write a Python program to find the highest and lowest amongst two numbers.\n"
   ]
  },
  {
   "cell_type": "code",
   "execution_count": 18,
   "id": "4cd2e9e9-a3d4-4294-bfbc-acbdf0e8a5c8",
   "metadata": {},
   "outputs": [
    {
     "name": "stdin",
     "output_type": "stream",
     "text": [
      "Enter the first Number:   2\n",
      "Enter the second Number:   3\n"
     ]
    },
    {
     "name": "stdout",
     "output_type": "stream",
     "text": [
      "heighest number is   3\n"
     ]
    }
   ],
   "source": [
    "number1 = int(input(\"Enter the first Number:  \"))\n",
    "number2 = int(input(\"Enter the second Number:  \"))\n",
    "\n",
    "if number1 > number2:\n",
    "    print(\"heighest number is  \",number1)\n",
    "else:\n",
    "    print(\"heighest number is  \",number2)"
   ]
  },
  {
   "cell_type": "markdown",
   "id": "aef0bdda-7d94-4627-a53c-39efb6171319",
   "metadata": {},
   "source": [
    "#### 4)Write a Python Program to find the factorial of a number."
   ]
  },
  {
   "cell_type": "code",
   "execution_count": 25,
   "id": "1703a895-20d6-49d4-bfd0-d00031f6158a",
   "metadata": {},
   "outputs": [
    {
     "name": "stdin",
     "output_type": "stream",
     "text": [
      "Enter the number:  5\n"
     ]
    },
    {
     "name": "stdout",
     "output_type": "stream",
     "text": [
      "Factorial   120\n"
     ]
    }
   ],
   "source": [
    "number = int(input(\"Enter the number: \"))\n",
    "\n",
    "def fact(number):\n",
    "    if number == 1:\n",
    "        return 1\n",
    "    return number*fact(number-1)\n",
    "\n",
    "print(\"Factorial  \" , fact(number) )"
   ]
  },
  {
   "cell_type": "markdown",
   "id": "7ba07b57-7e09-434c-9b40-8b6d42a9abcb",
   "metadata": {},
   "source": [
    "#### 5) Write a Python Program to check if a given number is an Armstrong Number."
   ]
  },
  {
   "cell_type": "code",
   "execution_count": 100,
   "id": "beed2705-0e1f-4d07-abff-af708964c020",
   "metadata": {},
   "outputs": [
    {
     "name": "stdin",
     "output_type": "stream",
     "text": [
      "Enter the number to be checked   52\n"
     ]
    },
    {
     "name": "stdout",
     "output_type": "stream",
     "text": [
      "52 is not Armstrong\n"
     ]
    }
   ],
   "source": [
    "number = input(\"Enter the number to be checked  \" )\n",
    "\n",
    "cube_digits = 0\n",
    "\n",
    "for each_number in number:     #since number is string can be iterated\n",
    "    cube_digits += int(each_number) ** 3    # convert each element to int and cubeing them \n",
    "   \n",
    "if cube_digits == int(number):\n",
    "    print(f'{number} is Armstrong')\n",
    "else:\n",
    "    print(f'{number} is not Armstrong')"
   ]
  },
  {
   "cell_type": "markdown",
   "id": "999e6849-cb96-45db-bec5-396c2c74b26a",
   "metadata": {},
   "source": [
    "#### 6) Write a Python program to print all Prime numbers in an Interval."
   ]
  },
  {
   "cell_type": "code",
   "execution_count": 39,
   "id": "59e8cd9e-15ca-46cf-b9a7-4ffcfdca8f30",
   "metadata": {},
   "outputs": [
    {
     "name": "stdin",
     "output_type": "stream",
     "text": [
      "enter the lower interval   0\n",
      "enter the higher interval   20\n"
     ]
    },
    {
     "name": "stdout",
     "output_type": "stream",
     "text": [
      "5 7 11 13 17 19 "
     ]
    }
   ],
   "source": [
    "lower_interval = int(input(\"enter the lower interval  \"))\n",
    "higher_interval = int(input(\"enter the higher interval  \"))\n",
    "\n",
    "for number in range(lower_interval,higher_interval):\n",
    "    if number == 0 or number == 1:\n",
    "        continue    # number 0 and 1 are not prime numbers\n",
    "    elif number % 2 == 0 or number % 3 == 0 :\n",
    "        continue # \n",
    "    else  :\n",
    "        print (number , end = \" \")\n"
   ]
  },
  {
   "cell_type": "markdown",
   "id": "87cb62fb-eb55-4f6d-a4a2-13710bb45a64",
   "metadata": {},
   "source": [
    "#### 7) Write a Python program to check whether a number is Prime or not."
   ]
  },
  {
   "cell_type": "code",
   "execution_count": 45,
   "id": "caf0ce4b-f9a0-478f-8536-3da929137771",
   "metadata": {},
   "outputs": [
    {
     "name": "stdin",
     "output_type": "stream",
     "text": [
      "Enter the number:  8\n"
     ]
    },
    {
     "name": "stdout",
     "output_type": "stream",
     "text": [
      "Not prime Number\n"
     ]
    }
   ],
   "source": [
    "number = int(input(\"Enter the number: \"))\n",
    "if number == 0 or number == 1 or number % 2 == 0 or number % 3 == 0:\n",
    "    print(\"Not prime Number\")\n",
    " \n",
    "else :\n",
    "    print(\" prime Number\")\n",
    "        "
   ]
  },
  {
   "cell_type": "markdown",
   "id": "3b2155f8-df83-4fc5-9e20-a9a38cc8d764",
   "metadata": {},
   "source": [
    "#### 8) Write a Python Program to print the first n Fibonacci numbers, where n is the number of numbers."
   ]
  },
  {
   "cell_type": "code",
   "execution_count": 204,
   "id": "c86b8a8a-d715-47e2-a3a3-1487d7d0b730",
   "metadata": {},
   "outputs": [
    {
     "name": "stdin",
     "output_type": "stream",
     "text": [
      "enter the Fibonacci number count required 6\n"
     ]
    },
    {
     "name": "stdout",
     "output_type": "stream",
     "text": [
      "0\n",
      "1\n",
      "1\n",
      "2\n",
      "3\n",
      "5\n"
     ]
    }
   ],
   "source": [
    "n = int(input(\"enter the Fibonacci number count required\"))\n",
    "a = 0\n",
    "b = 1\n",
    "for item in range(n-2):\n",
    "    if item == 0:\n",
    "        print(item)\n",
    "    elif item == 1:\n",
    "        print(item)\n",
    "    c  = a + b\n",
    "    a = b\n",
    "    b = c\n",
    "    print(c)"
   ]
  },
  {
   "cell_type": "markdown",
   "id": "deb75bc3-5d81-4c80-89f9-f2d9ece85578",
   "metadata": {},
   "source": [
    "#### 9) Write a Python Program to check if a given number is a Fibonacci number?"
   ]
  },
  {
   "cell_type": "code",
   "execution_count": 216,
   "id": "42a6da86-8f82-47f0-b191-50f3db74912e",
   "metadata": {},
   "outputs": [
    {
     "name": "stdin",
     "output_type": "stream",
     "text": [
      "Enter the numebr to be checked 144\n"
     ]
    },
    {
     "name": "stdout",
     "output_type": "stream",
     "text": [
      "is a fibonacci number\n"
     ]
    }
   ],
   "source": [
    "d = int(input(\"Enter the numebr to be checked\"))\n",
    "\n",
    "a = 0\n",
    "b = 1\n",
    "checker = 1\n",
    "if d == 0:\n",
    "    print(\"is a fibonacci number\")\n",
    "    checker = 0\n",
    "elif d == 1:\n",
    "    print(\"is a fibonacci number\")\n",
    "    checker = 0\n",
    "elif d > 1:\n",
    "    for item in range(d):\n",
    "        c  = a + b\n",
    "        a = b\n",
    "        b = c\n",
    "        if c == d:\n",
    "            print(\"is a fibonacci number\")\n",
    "            checker =0\n",
    "            break\n",
    "        elif item == (d-1):\n",
    "            print(\"not a fibonacci\")\n",
    "\n",
    "            "
   ]
  },
  {
   "cell_type": "markdown",
   "id": "c5db1a49-b3e7-4eeb-850d-0dbb51261a44",
   "metadata": {},
   "source": [
    "#### 10) Write a program to print the multiplication table of the given number."
   ]
  },
  {
   "cell_type": "code",
   "execution_count": 56,
   "id": "3295c4a9-c671-4b14-bb1f-9109b10d0f71",
   "metadata": {},
   "outputs": [
    {
     "name": "stdin",
     "output_type": "stream",
     "text": [
      "Enter the number  5\n"
     ]
    },
    {
     "name": "stdout",
     "output_type": "stream",
     "text": [
      "0 x 5 = 0\n",
      "1 x 5 = 5\n",
      "2 x 5 = 10\n",
      "3 x 5 = 15\n",
      "4 x 5 = 20\n",
      "5 x 5 = 25\n",
      "6 x 5 = 30\n",
      "7 x 5 = 35\n",
      "8 x 5 = 40\n",
      "9 x 5 = 45\n",
      "10 x 5 = 50\n"
     ]
    }
   ],
   "source": [
    "number = int(input(\"Enter the number \"))\n",
    "\n",
    "for i in range (11):\n",
    "    print(f'{i} x {number} = {i*number}')"
   ]
  },
  {
   "cell_type": "markdown",
   "id": "bbcb34ee-e1a7-4a7d-8294-b5177bbb4cd4",
   "metadata": {},
   "source": [
    "#### 11) Program to print ASCII Value of a character.\n"
   ]
  },
  {
   "cell_type": "code",
   "execution_count": 57,
   "id": "7c12c6e3-9f58-49a0-b365-5f9cf6eb102d",
   "metadata": {},
   "outputs": [
    {
     "name": "stdin",
     "output_type": "stream",
     "text": [
      "Enter the Charachter   g\n"
     ]
    },
    {
     "name": "stdout",
     "output_type": "stream",
     "text": [
      "103\n"
     ]
    }
   ],
   "source": [
    "charcter = input(\"Enter the Charachter  \")\n",
    "\n",
    "print(ord(charcter))"
   ]
  },
  {
   "cell_type": "markdown",
   "id": "d99e82ef-8289-4c08-b814-17ce029bb669",
   "metadata": {},
   "source": [
    "#### 12) Write a Python Program to find the sum of squares of first n natural numbers.\n"
   ]
  },
  {
   "cell_type": "code",
   "execution_count": 99,
   "id": "3273f9c8-b9c6-42ef-9359-bf98e5ebb2b5",
   "metadata": {},
   "outputs": [
    {
     "name": "stdin",
     "output_type": "stream",
     "text": [
      "natural number required 5\n"
     ]
    },
    {
     "name": "stdout",
     "output_type": "stream",
     "text": [
      "55\n",
      "['5', '6', '7', '6', '8', '9']\n"
     ]
    }
   ],
   "source": [
    "n = int(input(\"natural number required\"))\n",
    "\n",
    "square_list = [ item**2 for item in range(n+1) ]\n",
    "sum1 = 0\n",
    "for item in square_list:\n",
    "    sum1 += item\n",
    "print(sum1)"
   ]
  },
  {
   "cell_type": "markdown",
   "id": "40566475-ae7b-4143-851c-cdd581bd1049",
   "metadata": {},
   "source": [
    "#### 13) Write a Python Program to find the cube sum of first n natural numbers.\n"
   ]
  },
  {
   "cell_type": "code",
   "execution_count": 64,
   "id": "0c961972-cb3c-4ca2-bb7a-0f0ae65d5037",
   "metadata": {},
   "outputs": [
    {
     "name": "stdin",
     "output_type": "stream",
     "text": [
      "natural number required 5\n"
     ]
    },
    {
     "name": "stdout",
     "output_type": "stream",
     "text": [
      "225\n"
     ]
    }
   ],
   "source": [
    "n = int(input(\"natural number required\"))\n",
    "\n",
    "square_list = [ item**3 for item in range(n+1) ]\n",
    "sum1 = 0\n",
    "for item in square_list:\n",
    "    sum1 += item\n",
    "print(sum1)"
   ]
  },
  {
   "cell_type": "markdown",
   "id": "ad4b84c7-59a4-4f37-afca-a322f3397f0e",
   "metadata": {},
   "source": [
    "#### 14) Python program to interchange first and last elements in a list."
   ]
  },
  {
   "cell_type": "code",
   "execution_count": 82,
   "id": "3695521d-945f-427b-93ec-249bcf78d5b1",
   "metadata": {},
   "outputs": [
    {
     "name": "stdin",
     "output_type": "stream",
     "text": [
      "Enter the number of elements required 5\n"
     ]
    },
    {
     "name": "stdout",
     "output_type": "stream",
     "text": [
      "Enter the elements\n"
     ]
    },
    {
     "name": "stdin",
     "output_type": "stream",
     "text": [
      " 1 \n",
      " 2\n",
      " 3\n",
      " 4\n",
      " 5\n"
     ]
    },
    {
     "name": "stdout",
     "output_type": "stream",
     "text": [
      "['1 ', '2', '3', '4', '5']\n",
      "['5', '2', '3', '4', '1 ']\n"
     ]
    }
   ],
   "source": [
    "number_of_elements =int(input(\"Enter the number of elements required\"))\n",
    "print(\"Enter the elements\")\n",
    "list1 = []\n",
    "for i in range(number_of_elements):\n",
    "    list1.append(input())\n",
    "\n",
    "print(list1) \n",
    "\n",
    "list1[0],list1[-1] = list1[-1],list1[0]\n",
    "\n",
    "print(list1)"
   ]
  },
  {
   "cell_type": "markdown",
   "id": "a87a53de-5511-49e9-8db5-a10d9dcf7d2b",
   "metadata": {},
   "source": [
    "#### 15) Python program to swap two elements in a list.`"
   ]
  },
  {
   "cell_type": "code",
   "execution_count": 83,
   "id": "6944665e-5fec-4dfc-9602-f92c74e15a0f",
   "metadata": {},
   "outputs": [
    {
     "name": "stdin",
     "output_type": "stream",
     "text": [
      "Enter the index of first number 0\n",
      "Enter the index of second number 3\n"
     ]
    },
    {
     "name": "stdout",
     "output_type": "stream",
     "text": [
      "[4, 2, 3, 1, 5, 6, 7]\n"
     ]
    }
   ],
   "source": [
    "list1 = [1,2,3,4,5,6,7]\n",
    "index_1 = int(input(\"Enter the index of first number\"))\n",
    "index_2 = int(input(\"Enter the index of second number\"))\n",
    "\n",
    "list1[index_1],list1[index_2] = list1[index_2],list1[index_1]\n",
    "\n",
    "print(list1)"
   ]
  },
  {
   "cell_type": "markdown",
   "id": "46ba916c-9f09-4e11-9952-77dbd6f71bb1",
   "metadata": {},
   "source": [
    "#### 16) Python program to find the length of a list without using the len() function."
   ]
  },
  {
   "cell_type": "code",
   "execution_count": 77,
   "id": "327ebf93-40ea-4d44-870a-a8fe89b5f364",
   "metadata": {},
   "outputs": [
    {
     "name": "stdout",
     "output_type": "stream",
     "text": [
      "7\n"
     ]
    }
   ],
   "source": [
    "list1 = [1,2,3,4,5,6,7]\n",
    "\n",
    "length_of_lst = 0\n",
    "for i in list1:\n",
    "    length_of_lst +=1\n",
    "    \n",
    "print(length_of_lst)"
   ]
  },
  {
   "cell_type": "markdown",
   "id": "7a0f4c1d-d5e3-419b-b01c-a1a067be9d29",
   "metadata": {},
   "source": [
    "#### 17) Python program to check if element exists in list."
   ]
  },
  {
   "cell_type": "code",
   "execution_count": 78,
   "id": "ec740651-1f59-4a97-9bda-817522312760",
   "metadata": {},
   "outputs": [
    {
     "name": "stdin",
     "output_type": "stream",
     "text": [
      "Enter the element to be checked 5\n"
     ]
    },
    {
     "name": "stdout",
     "output_type": "stream",
     "text": [
      "True\n"
     ]
    }
   ],
   "source": [
    "list1 = [1,2,3,4,5,6,7]\n",
    "\n",
    "element= int(input(\"Enter the element to be checked\"))\n",
    "\n",
    "print( element in list1)"
   ]
  },
  {
   "cell_type": "markdown",
   "id": "5c35f050-eda9-47fd-8ada-f23ffe6d9a17",
   "metadata": {},
   "source": [
    "#### 18) Python program to reverse a List."
   ]
  },
  {
   "cell_type": "code",
   "execution_count": 81,
   "id": "d560fe15-80e0-4810-b0fa-fa269af0bd65",
   "metadata": {},
   "outputs": [
    {
     "name": "stdout",
     "output_type": "stream",
     "text": [
      "[7, 6, 5, 4, 3, 2, 1]\n"
     ]
    }
   ],
   "source": [
    "list1 = [1,2,3,4,5,6,7]\n",
    "\n",
    "print(list1[::-1])"
   ]
  },
  {
   "cell_type": "markdown",
   "id": "12e22193-f415-41ca-a1a7-f2ddbeeb9d70",
   "metadata": {},
   "source": [
    "#### 19) Python program to find the sum of elements in a list.\n"
   ]
  },
  {
   "cell_type": "code",
   "execution_count": 84,
   "id": "a484d2ff-c162-4454-8617-a3b4db648d88",
   "metadata": {},
   "outputs": [
    {
     "name": "stdout",
     "output_type": "stream",
     "text": [
      "28\n"
     ]
    }
   ],
   "source": [
    "list1 = [1,2,3,4,5,6,7]\n",
    "sum1 = 0\n",
    "for item in list1:\n",
    "    sum1 += item\n",
    "print(sum1)"
   ]
  },
  {
   "cell_type": "markdown",
   "id": "92fe467e-74a2-4ba9-985e-4e1475a51608",
   "metadata": {},
   "source": [
    "#### 20) Python program to Multiply all numbers in the list."
   ]
  },
  {
   "cell_type": "code",
   "execution_count": 86,
   "id": "57d4b64f-3b56-4793-91be-863dff59dddf",
   "metadata": {},
   "outputs": [
    {
     "name": "stdout",
     "output_type": "stream",
     "text": [
      "5040\n"
     ]
    }
   ],
   "source": [
    "list1 = [1,2,3,4,5,6,7]\n",
    "multiply1 = 1\n",
    "for item in list1:\n",
    "    multiply1 *= item\n",
    "print(multiply1)"
   ]
  },
  {
   "cell_type": "markdown",
   "id": "692171b5-86a7-4cd5-a0b0-b1c3710de7ce",
   "metadata": {},
   "source": [
    "#### 21) Python program to find the smallest number in a list"
   ]
  },
  {
   "cell_type": "code",
   "execution_count": 106,
   "id": "89e3ff9a-007e-42e3-9d94-741beba975da",
   "metadata": {},
   "outputs": [
    {
     "name": "stdout",
     "output_type": "stream",
     "text": [
      "2\n"
     ]
    }
   ],
   "source": [
    "list1 = [7,2,3,4,5,6,7]\n",
    "list1.sort()\n",
    "print(list1[0]) # first number is the smallest after sorting"
   ]
  },
  {
   "cell_type": "markdown",
   "id": "16e32e30-ef76-4039-a5c6-04da72dc6a48",
   "metadata": {},
   "source": [
    "#### 22) Python program to find the largest number in a list."
   ]
  },
  {
   "cell_type": "code",
   "execution_count": 107,
   "id": "d5e0b1d8-c56f-424f-9976-9881da3810c3",
   "metadata": {},
   "outputs": [
    {
     "name": "stdout",
     "output_type": "stream",
     "text": [
      "7\n"
     ]
    }
   ],
   "source": [
    "list1 = [7,2,3,4,5,6,7]\n",
    "list1.sort()\n",
    "print(list1[-1]) # last number is the largest after sorting"
   ]
  },
  {
   "cell_type": "markdown",
   "id": "3e845cc8-2b23-4ba9-a9e9-04f9c1ff6fda",
   "metadata": {},
   "source": [
    "#### 23) Python program to find the second largest number in a list.\n"
   ]
  },
  {
   "cell_type": "code",
   "execution_count": 103,
   "id": "0575b0e1-f841-469c-a89d-317ab5114e52",
   "metadata": {},
   "outputs": [
    {
     "name": "stdout",
     "output_type": "stream",
     "text": [
      "6\n"
     ]
    }
   ],
   "source": [
    "list1 = [7,2,3,4,5,6,7]\n",
    "list2= set(list1) # removes duplicate elements\n",
    "list1=list(list2)\n",
    "list1.sort()\n",
    "print(list1[-2]) # last number is the largest after sorting"
   ]
  },
  {
   "cell_type": "markdown",
   "id": "ed34a9c5-1ddb-46ab-8180-07258cad54b0",
   "metadata": {},
   "source": [
    "#### 24) Python program to find N largest elements from a list"
   ]
  },
  {
   "cell_type": "code",
   "execution_count": 105,
   "id": "b6198d80-33ee-41a0-9829-68824e469727",
   "metadata": {},
   "outputs": [
    {
     "name": "stdin",
     "output_type": "stream",
     "text": [
      "Enter the N largest elements 3\n"
     ]
    },
    {
     "name": "stdout",
     "output_type": "stream",
     "text": [
      "[7, 6, 5]\n"
     ]
    }
   ],
   "source": [
    "list1 = [7,2,3,4,5,6,7]\n",
    "n= int(input(\"Enter the N largest elements\"))\n",
    "list2= set(list1) # removes duplicate elements\n",
    "list1=list(list2)\n",
    "list1.sort()\n",
    "print(list1[:(-1*(n+1)):-1]) # last number is the largest after sorting"
   ]
  },
  {
   "cell_type": "markdown",
   "id": "0a90640f-a1a8-456a-a39f-854b0c3ce7e7",
   "metadata": {},
   "source": [
    "#### 25) Python program to print even numbers in a list."
   ]
  },
  {
   "cell_type": "code",
   "execution_count": 109,
   "id": "231e4ed2-2cb2-4aa4-9a65-38bd5be0b38a",
   "metadata": {},
   "outputs": [
    {
     "name": "stdout",
     "output_type": "stream",
     "text": [
      "2 4 6 "
     ]
    }
   ],
   "source": [
    "list1 = [7,2,3,4,5,6,7]\n",
    "for elements in list1:\n",
    "    if elements % 2 == 0:\n",
    "        print(elements, end = \" \")"
   ]
  },
  {
   "cell_type": "markdown",
   "id": "e77670d4-85c3-4be3-8e57-06949b46e77f",
   "metadata": {},
   "source": [
    "#### 26) Python program to print odd numbers in a List."
   ]
  },
  {
   "cell_type": "code",
   "execution_count": 110,
   "id": "a0177c3f-9cb5-4286-a59d-e024564afe8d",
   "metadata": {},
   "outputs": [
    {
     "name": "stdout",
     "output_type": "stream",
     "text": [
      "7 3 5 7 "
     ]
    }
   ],
   "source": [
    "list1 = [7,2,3,4,5,6,7]\n",
    "for elements in list1:\n",
    "    if elements % 2 != 0:\n",
    "        print(elements, end = \" \")"
   ]
  },
  {
   "cell_type": "markdown",
   "id": "6c9b6bc7-6fc0-4042-b065-864dccd484d0",
   "metadata": {},
   "source": [
    "#### 27) Python program to print all even numbers in a range as a list."
   ]
  },
  {
   "cell_type": "code",
   "execution_count": 111,
   "id": "749614ab-6baa-4648-9cc8-e3999fc8ddbb",
   "metadata": {},
   "outputs": [
    {
     "name": "stdin",
     "output_type": "stream",
     "text": [
      "Enter the index of first number 0\n",
      "Enter the index of second number 4\n"
     ]
    },
    {
     "name": "stdout",
     "output_type": "stream",
     "text": [
      "[2, 4, 6]\n"
     ]
    }
   ],
   "source": [
    "list1 = [7,2,3,4,5,6,7]\n",
    "index_1 = int(input(\"Enter the index of first number\"))\n",
    "index_2 = int(input(\"Enter the index of second number\"))\n",
    "list2 = list1[index_1:index_2]\n",
    "list3=[]\n",
    "for elements in list1:\n",
    "    if elements % 2 == 0:\n",
    "        list3.append(elements)\n",
    "print(list3)"
   ]
  },
  {
   "cell_type": "markdown",
   "id": "14cd146a-e873-452c-9136-0c31ef223666",
   "metadata": {},
   "source": [
    "#### 28) Python program to print all odd numbers in a range as a list."
   ]
  },
  {
   "cell_type": "code",
   "execution_count": 112,
   "id": "5805258d-4cfc-44ea-a6c5-09ac3dfcf377",
   "metadata": {},
   "outputs": [
    {
     "name": "stdin",
     "output_type": "stream",
     "text": [
      "Enter the index of first number 1\n",
      "Enter the index of second number 5\n"
     ]
    },
    {
     "name": "stdout",
     "output_type": "stream",
     "text": [
      "[7, 3, 5, 7]\n"
     ]
    }
   ],
   "source": [
    "list1 = [7,2,3,4,5,6,7]\n",
    "index_1 = int(input(\"Enter the index of first number\"))\n",
    "index_2 = int(input(\"Enter the index of second number\"))\n",
    "list2 = list1[index_1:index_2]\n",
    "list3=[]\n",
    "for elements in list1:\n",
    "    if elements % 2 != 0:\n",
    "        list3.append(elements)\n",
    "print(list3)"
   ]
  },
  {
   "cell_type": "markdown",
   "id": "fc0f921b-d0f3-4786-a6eb-c928887252f8",
   "metadata": {},
   "source": [
    "#### 29) Python program to print positive numbers in a list."
   ]
  },
  {
   "cell_type": "code",
   "execution_count": 113,
   "id": "50fa7936-a061-465b-9885-6ff1ba076371",
   "metadata": {},
   "outputs": [
    {
     "name": "stdout",
     "output_type": "stream",
     "text": [
      "7 2 3 5 6 7 "
     ]
    }
   ],
   "source": [
    "list1 = [7,2,3,-4,5,6,7]\n",
    "for elements in list1:\n",
    "    if elements > 0:\n",
    "        print(elements, end = \" \")"
   ]
  },
  {
   "cell_type": "markdown",
   "id": "2fadbdc9-9245-473a-9122-f4a3e204bf06",
   "metadata": {},
   "source": [
    "#### 30) Python program to print negative numbers in a list."
   ]
  },
  {
   "cell_type": "code",
   "execution_count": 114,
   "id": "cdf61a3f-5dec-44c5-8a93-57847f56dc88",
   "metadata": {},
   "outputs": [
    {
     "name": "stdout",
     "output_type": "stream",
     "text": [
      "-4 "
     ]
    }
   ],
   "source": [
    "list1 = [7,2,3,-4,5,6,7]\n",
    "for elements in list1:\n",
    "    if elements < 0:\n",
    "        print(elements, end = \" \")"
   ]
  },
  {
   "cell_type": "markdown",
   "id": "7bad0a7b-3a19-4745-ab90-ef16c6a2e8f0",
   "metadata": {},
   "source": [
    "#### 31)  Python program to print all positive numbers in a range."
   ]
  },
  {
   "cell_type": "code",
   "execution_count": 116,
   "id": "39216ae4-d2f3-4d7a-aac9-8cbb3bebda89",
   "metadata": {},
   "outputs": [
    {
     "name": "stdin",
     "output_type": "stream",
     "text": [
      "Enter the index of first number 2\n",
      "Enter the index of second number 6\n"
     ]
    },
    {
     "name": "stdout",
     "output_type": "stream",
     "text": [
      "[7, 2, 3, 5, 7]\n"
     ]
    }
   ],
   "source": [
    "list1 = [7,2,3,-4,5,-6,7]\n",
    "index_1 = int(input(\"Enter the index of first number\"))\n",
    "index_2 = int(input(\"Enter the index of second number\"))\n",
    "list2 = list1[index_1:index_2]\n",
    "list3=[]\n",
    "for elements in list1:\n",
    "    if elements > 0:\n",
    "        list3.append(elements)\n",
    "print(list3)"
   ]
  },
  {
   "cell_type": "markdown",
   "id": "8deadfba-e463-40c4-b289-6787c885f450",
   "metadata": {},
   "source": [
    "#### 32) Python program to print all negative numbers in a range."
   ]
  },
  {
   "cell_type": "code",
   "execution_count": 119,
   "id": "1f98ba5f-4c96-4769-a114-44d6780d0212",
   "metadata": {},
   "outputs": [
    {
     "name": "stdin",
     "output_type": "stream",
     "text": [
      "Enter the index of first number 2\n",
      "Enter the index of second number 5\n"
     ]
    },
    {
     "name": "stdout",
     "output_type": "stream",
     "text": [
      "[-4, -6]\n"
     ]
    }
   ],
   "source": [
    "list1 = [7,2,3,-4,5,-6,7]\n",
    "index_1 = int(input(\"Enter the index of first number\"))\n",
    "index_2 = int(input(\"Enter the index of second number\"))\n",
    "list2 = list1[index_1:index_2]\n",
    "list3=[]\n",
    "for elements in list1:\n",
    "    if elements <0:\n",
    "        list3.append(elements)\n",
    "print(list3)"
   ]
  },
  {
   "cell_type": "markdown",
   "id": "3c839a1f-7c85-419c-9cb3-1c3965ccf84d",
   "metadata": {},
   "source": [
    "#### 33) Remove duplicate elements from a list in Python."
   ]
  },
  {
   "cell_type": "code",
   "execution_count": 120,
   "id": "c9f5e2cc-a4f3-459d-840a-efd9a68df72c",
   "metadata": {},
   "outputs": [
    {
     "name": "stdout",
     "output_type": "stream",
     "text": [
      "[2, 3, 4, 5, 6, 7]\n"
     ]
    }
   ],
   "source": [
    "list1 = [7,2,3,4,5,6,7]\n",
    "list2= set(list1) # removes duplicate elements\n",
    "list1=list(list2)\n",
    "print(list1)"
   ]
  },
  {
   "cell_type": "markdown",
   "id": "cd36ce38-f8e2-42d9-a8f2-24039d2e91ce",
   "metadata": {},
   "source": [
    "#### 34) Python program to remove empty List from List."
   ]
  },
  {
   "cell_type": "code",
   "execution_count": 121,
   "id": "13a54df5-b402-4047-83a9-b5caea2dff91",
   "metadata": {},
   "outputs": [
    {
     "name": "stdout",
     "output_type": "stream",
     "text": [
      "[7, 2, 3, 4, 5, 5, 6]\n"
     ]
    }
   ],
   "source": [
    "list1= [7,2,3,4,5,[],5,6]\n",
    "\n",
    "for i in list1:\n",
    "    if i == []:\n",
    "        list1.remove(i)\n",
    "print(list1)"
   ]
  },
  {
   "cell_type": "markdown",
   "id": "b13b8e01-bc7b-4b2a-a2bd-cbf1d348bc0b",
   "metadata": {},
   "source": [
    "#### 35) Python program to count occurrences of an element in a list."
   ]
  },
  {
   "cell_type": "code",
   "execution_count": 123,
   "id": "14efcfc1-c6a7-4637-aabf-bffd20af5df5",
   "metadata": {},
   "outputs": [
    {
     "name": "stdin",
     "output_type": "stream",
     "text": [
      "enter the elemnt to be counted 7\n"
     ]
    },
    {
     "name": "stdout",
     "output_type": "stream",
     "text": [
      "2\n"
     ]
    }
   ],
   "source": [
    "list1 = [7,2,3,4,5,6,7]\n",
    "count1 = int(input(\"enter the elemnt to be counted\"))\n",
    "print(list1.count(count1))"
   ]
  },
  {
   "cell_type": "markdown",
   "id": "812dbbe3-6566-456d-a2b2-a2909b1d1494",
   "metadata": {},
   "source": [
    "#### 36) Python program to remove empty tuples from a list."
   ]
  },
  {
   "cell_type": "code",
   "execution_count": 124,
   "id": "99e59c04-48ac-44b4-ab35-b7f740a6ff57",
   "metadata": {},
   "outputs": [
    {
     "name": "stdout",
     "output_type": "stream",
     "text": [
      "[7, 2, 3, 4, 5, 5, 6]\n"
     ]
    }
   ],
   "source": [
    "list1= [7,2,3,4,5,(),5,6]\n",
    "\n",
    "for i in list1:\n",
    "    if i == ():\n",
    "        list1.remove(i)\n",
    "print(list1)"
   ]
  },
  {
   "cell_type": "markdown",
   "id": "216e4f7a-5559-4647-a152-8866762ad3f2",
   "metadata": {},
   "source": [
    "#### 37) Python program to print duplicates from a list of integers."
   ]
  },
  {
   "cell_type": "code",
   "execution_count": 132,
   "id": "fc1fb053-451c-4083-9494-eaf19caf1cf5",
   "metadata": {},
   "outputs": [
    {
     "name": "stdout",
     "output_type": "stream",
     "text": [
      "1\n",
      "7\n"
     ]
    }
   ],
   "source": [
    "list1 = [1,1,1,2,3,4,5,6,7,7,8,9]\n",
    "list2 = []\n",
    "for elements in list1:\n",
    "    if list1.count(elements) != 1:\n",
    "         list2.append(elements)\n",
    "list2 = set(list2)\n",
    "for i in list2:\n",
    "    print(i)\n",
    "\n"
   ]
  },
  {
   "cell_type": "markdown",
   "id": "fd71f5eb-7a38-43f2-9a26-9ed0fb69fc42",
   "metadata": {},
   "source": [
    "#### 38) Python program to find the Cumulative sum of a list."
   ]
  },
  {
   "cell_type": "code",
   "execution_count": 218,
   "id": "15d9536e-700e-4b68-92ea-03c23fa7b1bc",
   "metadata": {},
   "outputs": [
    {
     "name": "stdout",
     "output_type": "stream",
     "text": [
      "[10, 30, 60, 100, 150]\n"
     ]
    }
   ],
   "source": [
    "a = [ 10 , 20 , 30 , 40 , 50]\n",
    "b= []\n",
    "c= 0\n",
    "d = 0\n",
    "for i in range(len(a)):\n",
    "    if a[i] == a [0] :\n",
    "        b.append(a[0])\n",
    "    else:\n",
    "        e  = a[i] + b[i-1]\n",
    "        b.append(e)\n",
    "print(b)\n",
    "        \n",
    "    "
   ]
  },
  {
   "cell_type": "markdown",
   "id": "03516667-d97b-47f0-95d1-ca5b67130bab",
   "metadata": {},
   "source": [
    "#### 39) Python program to find the sum of number digits in a List."
   ]
  },
  {
   "cell_type": "code",
   "execution_count": 141,
   "id": "1a12d365-8e9a-4179-953c-52ac68eb36de",
   "metadata": {},
   "outputs": [
    {
     "name": "stdout",
     "output_type": "stream",
     "text": [
      "14\n",
      "16\n",
      "18\n",
      "2\n",
      "3\n"
     ]
    }
   ],
   "source": [
    "list1= [77,88,99,200,111]\n",
    "\n",
    "for item in list1:\n",
    "    sum1 = 0\n",
    "    for item in str(item):\n",
    "        sum1 += int(item)\n",
    "    print(sum1)\n"
   ]
  },
  {
   "cell_type": "markdown",
   "id": "6c1170f4-50f5-4014-b119-fb4366013ec6",
   "metadata": {},
   "source": [
    "#### 40) Write a Python program to break a list into chunks of size N in Python."
   ]
  },
  {
   "cell_type": "code",
   "execution_count": 228,
   "id": "a6da7b2b-cd08-4009-af80-3406906ac18a",
   "metadata": {},
   "outputs": [
    {
     "name": "stdin",
     "output_type": "stream",
     "text": [
      "enter the N  2\n"
     ]
    },
    {
     "name": "stdout",
     "output_type": "stream",
     "text": [
      "[[1, 2], [21, 5], [8, 5], [7, 4], [7, 8]]\n"
     ]
    }
   ],
   "source": [
    "list1 = [1,2,21,5,8,5,7,4,7,8]\n",
    "n = int(input(\"enter the N \"))\n",
    "a = []\n",
    "counter = 0\n",
    "for i in range(len(list1)//n):\n",
    "    b = []\n",
    "    for j in range(n):\n",
    "        b.append(list1[counter])\n",
    "        counter +=1\n",
    "    a.append(b)\n",
    "        \n",
    "print(a)\n",
    "        \n"
   ]
  },
  {
   "cell_type": "markdown",
   "id": "d0053508-fbd7-4f5c-b147-727d9d467bb2",
   "metadata": {},
   "source": [
    "#### 41) Write a python program to Square Each Odd Number in a List using List Comprehension."
   ]
  },
  {
   "cell_type": "code",
   "execution_count": 198,
   "id": "2c0b5be5-d2c2-4596-8fe1-676815ff9b7f",
   "metadata": {},
   "outputs": [
    {
     "name": "stdout",
     "output_type": "stream",
     "text": [
      "[1, 9, 25, 49, 81]\n"
     ]
    }
   ],
   "source": [
    "a =  [1,2,3,4,5,6,7,8,9]\n",
    "b = [ item**2 for item in a if item % 2 !=0]\n",
    "print(b)"
   ]
  },
  {
   "cell_type": "markdown",
   "id": "23de3493-6c0b-4b07-bc25-ef1ac4a0adc1",
   "metadata": {},
   "source": [
    "#### 42) Python program to check if a string is palindrome or not."
   ]
  },
  {
   "cell_type": "code",
   "execution_count": 152,
   "id": "62e5c9ad-f770-4b44-8d87-5f11c5dbfb1d",
   "metadata": {},
   "outputs": [
    {
     "name": "stdout",
     "output_type": "stream",
     "text": [
      "True\n"
     ]
    }
   ],
   "source": [
    "a = 'lol'\n",
    "\n",
    "print(a.lower()[::-1] == a.lower())"
   ]
  },
  {
   "cell_type": "markdown",
   "id": "31a82946-1206-4098-b0f1-2f73a57f011f",
   "metadata": {},
   "source": [
    "#### 43) Python program to check whether the string is Symmetrical or Palindrome."
   ]
  },
  {
   "cell_type": "code",
   "execution_count": 153,
   "id": "5bb0e573-f05a-4fe1-9718-e9599530cab8",
   "metadata": {},
   "outputs": [
    {
     "name": "stdout",
     "output_type": "stream",
     "text": [
      "True\n"
     ]
    }
   ],
   "source": [
    "a = 'lol'\n",
    "\n",
    "print(a.lower()[::-1] == a.lower())"
   ]
  },
  {
   "cell_type": "markdown",
   "id": "aef35af9-8d50-4593-aaea-a4a542ee369d",
   "metadata": {},
   "source": [
    "#### 44) Reverse words in a given String in Python without using the reverse method."
   ]
  },
  {
   "cell_type": "code",
   "execution_count": 154,
   "id": "54411614-29c5-4e4e-a61f-7ed067eb4f37",
   "metadata": {},
   "outputs": [
    {
     "name": "stdout",
     "output_type": "stream",
     "text": [
      "narik\n"
     ]
    }
   ],
   "source": [
    "a = \"kiran\"\n",
    "print(a[::-1])"
   ]
  },
  {
   "cell_type": "markdown",
   "id": "a5b81975-f0b2-4ce2-a709-f1306174ab26",
   "metadata": {},
   "source": [
    "#### 45) Program to remove n’th character from string in Python."
   ]
  },
  {
   "cell_type": "code",
   "execution_count": 160,
   "id": "c916f45e-6555-4760-892e-227cea7c14ec",
   "metadata": {},
   "outputs": [
    {
     "name": "stdin",
     "output_type": "stream",
     "text": [
      "enter the index of number 2\n"
     ]
    },
    {
     "name": "stdout",
     "output_type": "stream",
     "text": [
      "heo word its python\n"
     ]
    }
   ],
   "source": [
    "a = \"hello world its python\"\n",
    "item = int(input(\"enter the index of number\"))\n",
    "\n",
    "b = a.replace(a[item],'')\n",
    "\n",
    "print(b)\n",
    "\n"
   ]
  },
  {
   "cell_type": "markdown",
   "id": "f91f1276-c201-4a5b-b59b-16a1ff148742",
   "metadata": {},
   "source": [
    "#### 46) Python to check if a Substring is Present in a Given String."
   ]
  },
  {
   "cell_type": "code",
   "execution_count": 161,
   "id": "82430694-9790-464b-91c4-89ada708091e",
   "metadata": {},
   "outputs": [
    {
     "name": "stdin",
     "output_type": "stream",
     "text": [
      "enter the sub string python\n"
     ]
    },
    {
     "name": "stdout",
     "output_type": "stream",
     "text": [
      "True\n"
     ]
    }
   ],
   "source": [
    "a = \" hello world its python\"\n",
    "substring = input(\"enter the sub string\")\n",
    "\n",
    "print(substring in a)"
   ]
  },
  {
   "cell_type": "markdown",
   "id": "74e478fa-60c8-4c30-9ed9-125db8be2d38",
   "metadata": {},
   "source": [
    "#### 47) What are all the different ways to find the length of a string in python? "
   ]
  },
  {
   "cell_type": "code",
   "execution_count": 162,
   "id": "e1187c81-aa1f-4691-8c3f-08604c1e980b",
   "metadata": {},
   "outputs": [
    {
     "name": "stdout",
     "output_type": "stream",
     "text": [
      "5\n",
      "5\n"
     ]
    }
   ],
   "source": [
    "a = \"Kiran\"\n",
    "\n",
    "print(len(a))\n",
    "length = 0\n",
    "for i in a:\n",
    "    length += 1\n",
    "print(length)\n",
    "    "
   ]
  },
  {
   "cell_type": "markdown",
   "id": "3d69f7e9-b868-4028-8585-c16e7a2fce69",
   "metadata": {},
   "source": [
    "#### 48) Python program to print even length words in a string."
   ]
  },
  {
   "cell_type": "code",
   "execution_count": 163,
   "id": "5201e233-27d5-4a42-a7c4-0490fbfc4202",
   "metadata": {},
   "outputs": [
    {
     "name": "stdout",
     "output_type": "stream",
     "text": [
      "this\n",
      "is\n"
     ]
    }
   ],
   "source": [
    "a = \"hello world  this is a program\"\n",
    "\n",
    "b = list(a.split())\n",
    "\n",
    "for i in b:\n",
    "    if len(i) % 2 == 0:\n",
    "        print(i)\n"
   ]
  },
  {
   "cell_type": "markdown",
   "id": "70864c0c-05db-4e88-9cc4-8a1a8999b513",
   "metadata": {},
   "source": [
    "#### 49) Python program to accept the strings which contain all vowels."
   ]
  },
  {
   "cell_type": "code",
   "execution_count": 166,
   "id": "a5d5a89d-a501-4e02-a625-2aa785aa6ede",
   "metadata": {},
   "outputs": [
    {
     "name": "stdin",
     "output_type": "stream",
     "text": [
      "Enter a string aeiou\n"
     ]
    },
    {
     "name": "stdout",
     "output_type": "stream",
     "text": [
      "string accepted\n"
     ]
    }
   ],
   "source": [
    "a = input(\"Enter a string\")\n",
    "\n",
    "checker = 0\n",
    "for i in a:\n",
    "    if i == \"a\" or i == \"e\" or i == \"i\" or i == \"o\" or i == \"u\" :\n",
    "        checker += 1\n",
    "if checker == len(a):\n",
    "    print(\"string accepted\")\n",
    "else:\n",
    "    print(\"not accepted\")"
   ]
  },
  {
   "cell_type": "markdown",
   "id": "f0d5a1b5-72bc-4066-b68f-9d258453157e",
   "metadata": {},
   "source": [
    "#### 50) Python program to Count the Number of matching characters in a pair of strings."
   ]
  },
  {
   "cell_type": "code",
   "execution_count": 168,
   "id": "06ce364c-721e-4440-8ba9-8a3ce4433cff",
   "metadata": {},
   "outputs": [
    {
     "name": "stdin",
     "output_type": "stream",
     "text": [
      "Enter a string kiran raj\n"
     ]
    },
    {
     "name": "stdout",
     "output_type": "stream",
     "text": [
      "2\n"
     ]
    }
   ],
   "source": [
    "a = input(\"Enter a string\")\n",
    "\n",
    "checker = []\n",
    "for i in a:\n",
    "    if a.count(i) != 1:\n",
    "        checker.append(i)\n",
    "checker1 = set(checker)\n",
    "print(len(checker1))"
   ]
  },
  {
   "cell_type": "markdown",
   "id": "5a5a55ee-ae17-43e4-a3bb-073abaf1708f",
   "metadata": {},
   "source": [
    "#### 51) Remove all duplicates from a given string in Python."
   ]
  },
  {
   "cell_type": "code",
   "execution_count": 190,
   "id": "72b4b6be-d819-4858-a73b-5d450af4fbee",
   "metadata": {},
   "outputs": [
    {
     "name": "stdin",
     "output_type": "stream",
     "text": [
      "enter a string kiran is is hello\n"
     ]
    },
    {
     "name": "stdout",
     "output_type": "stream",
     "text": [
      "kiran is hello \n"
     ]
    }
   ],
   "source": [
    "a = input(\"enter a string\")\n",
    "\n",
    "list1 = list(a.split())\n",
    "b = ''\n",
    "for i in list1:\n",
    "    if i not in b:\n",
    "        b += (i + ' ')\n",
    "print(b)"
   ]
  },
  {
   "cell_type": "markdown",
   "id": "67a941f9-51dd-44ef-8b67-38f6c0724b39",
   "metadata": {},
   "source": [
    "#### 52) python – Least Frequent Character in String."
   ]
  },
  {
   "cell_type": "code",
   "execution_count": 188,
   "id": "cf34ec62-ac11-4833-85c2-c0783225741b",
   "metadata": {},
   "outputs": [
    {
     "name": "stdin",
     "output_type": "stream",
     "text": [
      "enter a string kiran raj k\n"
     ]
    },
    {
     "name": "stdout",
     "output_type": "stream",
     "text": [
      "i\n",
      "n\n",
      "j\n"
     ]
    }
   ],
   "source": [
    "a = input(\"enter a string\")\n",
    "b = []\n",
    "for i in a :\n",
    "    b. append([a.count(i),i])\n",
    "\n",
    "c = []\n",
    "for i in b:\n",
    "    c.append(i[0])\n",
    "c.sort()\n",
    "lowest_count = c[0]\n",
    "\n",
    "for i in b:\n",
    "    if i[0] == lowest_count:\n",
    "        print(i[1])"
   ]
  },
  {
   "cell_type": "markdown",
   "id": "2f6a0acb-5460-4ed8-bcca-1f9d1b46e676",
   "metadata": {},
   "source": [
    "#### 53) Python - Maximum frequency character in String."
   ]
  },
  {
   "cell_type": "code",
   "execution_count": 186,
   "id": "b06a8dbc-1ee3-419b-9c33-0337dcffc3da",
   "metadata": {},
   "outputs": [
    {
     "name": "stdin",
     "output_type": "stream",
     "text": [
      "Enter a string kiran raj k\n"
     ]
    },
    {
     "name": "stdout",
     "output_type": "stream",
     "text": [
      "{' ', 'r', 'a', 'k'}\n"
     ]
    }
   ],
   "source": [
    "a = input(\"Enter a string\")\n",
    "\n",
    "b = []\n",
    "count = 0\n",
    "for i in a :\n",
    "    if a.count(i) >= count:\n",
    "        count = a.count(i)\n",
    "        b.append([count, i])\n",
    "c = []\n",
    "for i in b:\n",
    "    if i[0] == count:\n",
    "        c.append(i[1])\n",
    "print(set(c))"
   ]
  },
  {
   "cell_type": "markdown",
   "id": "f26420c2-adcd-4929-b93f-0e03e83b61c8",
   "metadata": {},
   "source": [
    "#### 54) Python - Program to check if a string contains any special character."
   ]
  },
  {
   "cell_type": "code",
   "execution_count": 174,
   "id": "4c34f9cb-b6dc-4ef1-badc-014fe38fcf0c",
   "metadata": {},
   "outputs": [
    {
     "name": "stdin",
     "output_type": "stream",
     "text": [
      "Enter the string kiran@#\n"
     ]
    },
    {
     "name": "stdout",
     "output_type": "stream",
     "text": [
      "@\n",
      "#\n"
     ]
    }
   ],
   "source": [
    "a = input(\"Enter the string\")\n",
    "#special Characters ascii code: 32–47 / 58–64 / 91–96 / 123–126)\n",
    "for i in a:\n",
    "    for j in range(32,48):\n",
    "        if ord(i) == j:\n",
    "            print(i)\n",
    "    for k in range(58,65):\n",
    "        if ord(i) == k:\n",
    "            print(i)\n",
    "    for l in range(91,97):\n",
    "        if ord(i) == l:\n",
    "            print(i)\n",
    "    for m in range(123,127):\n",
    "        if ord(i) == m:\n",
    "            print(i)"
   ]
  },
  {
   "cell_type": "markdown",
   "id": "bd307c87-574b-4a96-8251-6e4f6ec199eb",
   "metadata": {},
   "source": [
    "#### 55) Python program to split and join a string."
   ]
  },
  {
   "cell_type": "code",
   "execution_count": 173,
   "id": "a67bf3d8-1665-4bce-b6cd-cd5d31c5562c",
   "metadata": {},
   "outputs": [
    {
     "name": "stdout",
     "output_type": "stream",
     "text": [
      "hello world of python \n"
     ]
    }
   ],
   "source": [
    "astring = \"hello world of python\"\n",
    "list1=list(astring.split())\n",
    "joined_string = \"\"\n",
    "for i in list1:\n",
    "    joined_string += (i +' ')\n",
    "print(joined_string)"
   ]
  },
  {
   "cell_type": "markdown",
   "id": "4bf3e321-4091-4176-9587-929f52aa4191",
   "metadata": {},
   "source": [
    "#### 56) Python program to find uncommon words from two Strings."
   ]
  },
  {
   "cell_type": "code",
   "execution_count": 171,
   "id": "43f959fc-5e18-4ce8-bfa9-4e132269617a",
   "metadata": {},
   "outputs": [
    {
     "name": "stdin",
     "output_type": "stream",
     "text": [
      "Enter the string one hello this is python\n",
      "Enter the string two hello is kiran\n"
     ]
    },
    {
     "name": "stdout",
     "output_type": "stream",
     "text": [
      "this\n",
      "python\n"
     ]
    }
   ],
   "source": [
    "a = input(\"Enter the string one\")\n",
    "b = input(\"Enter the string two\")\n",
    "\n",
    "list1 = list(a.split())\n",
    "list2 = list(b.split())\n",
    "\n",
    "for i in list1:\n",
    "    if (i not in list2):\n",
    "        print(i)"
   ]
  },
  {
   "cell_type": "markdown",
   "id": "c81c1ccb-ec38-43c3-93f9-3148337980e9",
   "metadata": {},
   "source": [
    "#### 57) Python – Replace all occurrences of a substring in a string."
   ]
  },
  {
   "cell_type": "code",
   "execution_count": 170,
   "id": "4a75f94d-7730-4bf6-9230-06751d7e8f4f",
   "metadata": {},
   "outputs": [
    {
     "name": "stdin",
     "output_type": "stream",
     "text": [
      "Enter the substring to be replaced python\n"
     ]
    },
    {
     "name": "stdout",
     "output_type": "stream",
     "text": [
      "hello world of  \n"
     ]
    }
   ],
   "source": [
    "astring = \"hello world of python python\"\n",
    "\n",
    "replace = input(\"Enter the substring to be replaced\")\n",
    "\n",
    "b = astring.replace(replace,'')\n",
    "print(b)"
   ]
  },
  {
   "cell_type": "code",
   "execution_count": null,
   "id": "4ff6b537-06b0-48b6-bc34-c486f44e69ae",
   "metadata": {},
   "outputs": [],
   "source": []
  }
 ],
 "metadata": {
  "kernelspec": {
   "display_name": "Python 3 (ipykernel)",
   "language": "python",
   "name": "python3"
  },
  "language_info": {
   "codemirror_mode": {
    "name": "ipython",
    "version": 3
   },
   "file_extension": ".py",
   "mimetype": "text/x-python",
   "name": "python",
   "nbconvert_exporter": "python",
   "pygments_lexer": "ipython3",
   "version": "3.9.12"
  }
 },
 "nbformat": 4,
 "nbformat_minor": 5
}
